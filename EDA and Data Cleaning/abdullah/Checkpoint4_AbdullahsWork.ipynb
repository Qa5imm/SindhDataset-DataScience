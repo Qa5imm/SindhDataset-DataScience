{
 "cells": [
  {
   "cell_type": "code",
   "execution_count": 50,
   "id": "11a43d28",
   "metadata": {},
   "outputs": [],
   "source": [
    "%matplotlib inline\n",
    "import matplotlib.pyplot as plt\n",
    "import seaborn as sns\n",
    "import numpy as np\n",
    "import pandas as pd\n",
    "\n",
    "plt.style.use('fivethirtyeight')\n",
    "sns.set_context(\"notebook\")"
   ]
  },
  {
   "cell_type": "code",
   "execution_count": 51,
   "id": "83016d20",
   "metadata": {},
   "outputs": [],
   "source": [
    "sindhdata_enrollment= pd.read_csv(\"enrollment.csv\")"
   ]
  },
  {
   "cell_type": "code",
   "execution_count": 52,
   "id": "6f0df406",
   "metadata": {},
   "outputs": [
    {
     "name": "stdout",
     "output_type": "stream",
     "text": [
      "                                                                     No/100000\n",
      "District          Location Category  School Type      Composition             \n",
      "Badin             Rural    ENROLMENT Higher secondary FEMALE         19.562032\n",
      "                                                      MALE          137.100475\n",
      "                                     Middle           FEMALE        208.089039\n",
      "                                                      MALE          320.141246\n",
      "                                     Primary          FEMALE       2243.593296\n",
      "...                                                                        ...\n",
      "Kamber Shahdadkot Rural    ENROLMENT Middle           MALE          208.494589\n",
      "                                     Primary          FEMALE       3194.530820\n",
      "                                                      MALE         4744.221285\n",
      "                                     Secondary        FEMALE        442.939147\n",
      "                                                      MALE         1070.212566\n",
      "\n",
      "[200 rows x 1 columns]\n",
      "                                                                     No/100000\n",
      "District          Location Category  School Type      Composition             \n",
      "Badin             Rural    ENROLMENT Higher secondary FEMALE         19.562032\n",
      "                                                      MALE          137.100475\n",
      "                                     Middle           FEMALE        208.089039\n",
      "                                                      MALE          320.141246\n",
      "                                     Primary          FEMALE       2243.593296\n",
      "...                                                                        ...\n",
      "Kamber Shahdadkot Rural    ENROLMENT Middle           MALE          208.494589\n",
      "                                     Primary          FEMALE       3194.530820\n",
      "                                                      MALE         4744.221285\n",
      "                                     Secondary        FEMALE        442.939147\n",
      "                                                      MALE         1070.212566\n",
      "\n",
      "[200 rows x 1 columns]\n",
      "                                                                         No/100000\n",
      "District          Location Category       School Type      Composition            \n",
      "Badin             Rural    TEACHING STAFF Higher secondary FEMALE         0.166250\n",
      "                                                           MALE           2.992492\n",
      "                                          Middle           FEMALE         4.987487\n",
      "                                                           MALE          13.577048\n",
      "                                          Primary          FEMALE        28.207010\n",
      "...                                                                            ...\n",
      "Kamber Shahdadkot Rural    TEACHING STAFF Middle           MALE          14.913776\n",
      "                                          Primary          FEMALE        50.781407\n",
      "                                                           MALE         172.104975\n",
      "                                          Secondary        FEMALE         8.053439\n",
      "                                                           MALE          44.517621\n",
      "\n",
      "[200 rows x 1 columns]\n"
     ]
    }
   ],
   "source": [
    "sindhdata_enrollment = sindhdata_enrollment.drop(\"Number\", axis=\"columns\")\n",
    "sindhdata_enrollment = sindhdata_enrollment[sindhdata_enrollment.Composition != \"TOTAL\"]\n",
    "\n",
    "sindhdata_enrolment = sindhdata_enrollment[sindhdata_enrollment.Category == \"ENROLMENT\"]\n",
    "sindhdata_institutions = sindhdata_enrollment[sindhdata_enrollment.Category == \"INSTITUTIONS\"]\n",
    "sindhdata_teachingstaff = sindhdata_enrollment[sindhdata_enrollment.Category == \"TEACHING STAFF\"]\n",
    "\n",
    "enrolment_res= sindhdata_enrolment.groupby([\"District\", \"Location\",\"Category\", \"School Type\",\"Composition\"])\n",
    "final_enrolment= enrolment_res.sum().head(200)\n",
    "print(final_enrolment)\n",
    "\n",
    "institutions_res= sindhdata_institutions.groupby([\"District\", \"Location\",\"Category\", \"School Type\",\"Composition\"])\n",
    "final_institutions= enrolment_res.sum().head(200)\n",
    "print(final_institutions)\n",
    "\n",
    "enrolment_res= sindhdata_teachingstaff.groupby([\"District\", \"Location\",\"Category\", \"School Type\",\"Composition\"])\n",
    "final_teachingstaff= enrolment_res.sum().head(200)\n",
    "print(final_teachingstaff)"
   ]
  },
  {
   "cell_type": "code",
   "execution_count": null,
   "id": "fe6057b5",
   "metadata": {},
   "outputs": [],
   "source": []
  }
 ],
 "metadata": {
  "kernelspec": {
   "display_name": "Python 3 (ipykernel)",
   "language": "python",
   "name": "python3"
  },
  "language_info": {
   "codemirror_mode": {
    "name": "ipython",
    "version": 3
   },
   "file_extension": ".py",
   "mimetype": "text/x-python",
   "name": "python",
   "nbconvert_exporter": "python",
   "pygments_lexer": "ipython3",
   "version": "3.9.13"
  }
 },
 "nbformat": 4,
 "nbformat_minor": 5
}
